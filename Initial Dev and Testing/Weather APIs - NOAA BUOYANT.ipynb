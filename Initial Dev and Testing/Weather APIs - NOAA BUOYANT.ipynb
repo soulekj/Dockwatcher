{
 "cells": [
  {
   "cell_type": "code",
   "execution_count": 174,
   "metadata": {},
   "outputs": [],
   "source": [
    "import pandas as pd\n",
    "import buoyant as by\n",
    "from haversine import haversine\n",
    "\n",
    "LAT = 41.7677748443949\n",
    "LON = -71.38592004776"
   ]
  },
  {
   "cell_type": "code",
   "execution_count": 175,
   "metadata": {},
   "outputs": [],
   "source": [
    "#Create a function to find the closet buoy\n",
    "def find_closest_buoy(lat, lon):\n",
    "    buoy_list = pd.read_html('https://sdf.ndbc.noaa.gov/stations.shtml')[4]\n",
    "    smallest = 20036\n",
    "    for i in range(len(buoy_list)):\n",
    "        buoy_lon = buoy_list['Lon'][i]\n",
    "        buoy_lat = buoy_list['Lat'][i]\n",
    "        distance = haversine(LON, LAT, buoy_lon, buoy_lat)\n",
    "        if distance < smallest:\n",
    "            smallest = distance\n",
    "            closest = buoy_list['ID'][i]\n",
    "    return closest"
   ]
  },
  {
   "cell_type": "code",
   "execution_count": 176,
   "metadata": {},
   "outputs": [
    {
     "data": {
      "text/html": [
       "<div>\n",
       "<style scoped>\n",
       "    .dataframe tbody tr th:only-of-type {\n",
       "        vertical-align: middle;\n",
       "    }\n",
       "\n",
       "    .dataframe tbody tr th {\n",
       "        vertical-align: top;\n",
       "    }\n",
       "\n",
       "    .dataframe thead th {\n",
       "        text-align: right;\n",
       "    }\n",
       "</style>\n",
       "<table border=\"1\" class=\"dataframe\">\n",
       "  <thead>\n",
       "    <tr style=\"text-align: right;\">\n",
       "      <th></th>\n",
       "      <th>ID</th>\n",
       "      <th>Name</th>\n",
       "      <th>Owner</th>\n",
       "      <th>Lat</th>\n",
       "      <th>Lon</th>\n",
       "      <th>Sensor</th>\n",
       "    </tr>\n",
       "  </thead>\n",
       "  <tbody>\n",
       "    <tr>\n",
       "      <th>0</th>\n",
       "      <td>0Y2W3</td>\n",
       "      <td>Sturgeon Bay CG Station, WI</td>\n",
       "      <td>MARS</td>\n",
       "      <td>44.794</td>\n",
       "      <td>-87.313</td>\n",
       "      <td>AirtemperatureBarometricpressureWatertemperatu...</td>\n",
       "    </tr>\n",
       "    <tr>\n",
       "      <th>1</th>\n",
       "      <td>14040</td>\n",
       "      <td>NaN</td>\n",
       "      <td>RAMA</td>\n",
       "      <td>-8.000</td>\n",
       "      <td>67.000</td>\n",
       "      <td>AirtemperatureBarometricpressureWinds</td>\n",
       "    </tr>\n",
       "    <tr>\n",
       "      <th>2</th>\n",
       "      <td>14041</td>\n",
       "      <td>NaN</td>\n",
       "      <td>RAMA</td>\n",
       "      <td>-8.000</td>\n",
       "      <td>55.000</td>\n",
       "      <td>AirtemperatureBarometricpressureWinds</td>\n",
       "    </tr>\n",
       "    <tr>\n",
       "      <th>3</th>\n",
       "      <td>14043</td>\n",
       "      <td>NaN</td>\n",
       "      <td>RAMA</td>\n",
       "      <td>-12.000</td>\n",
       "      <td>67.000</td>\n",
       "      <td>AirtemperatureBarometricpressureWinds</td>\n",
       "    </tr>\n",
       "    <tr>\n",
       "      <th>4</th>\n",
       "      <td>14047</td>\n",
       "      <td>NaN</td>\n",
       "      <td>RAMA</td>\n",
       "      <td>-4.000</td>\n",
       "      <td>57.000</td>\n",
       "      <td>AirtemperatureWinds</td>\n",
       "    </tr>\n",
       "  </tbody>\n",
       "</table>\n",
       "</div>"
      ],
      "text/plain": [
       "      ID                         Name Owner     Lat     Lon  \\\n",
       "0  0Y2W3  Sturgeon Bay CG Station, WI  MARS  44.794 -87.313   \n",
       "1  14040                          NaN  RAMA  -8.000  67.000   \n",
       "2  14041                          NaN  RAMA  -8.000  55.000   \n",
       "3  14043                          NaN  RAMA -12.000  67.000   \n",
       "4  14047                          NaN  RAMA  -4.000  57.000   \n",
       "\n",
       "                                              Sensor  \n",
       "0  AirtemperatureBarometricpressureWatertemperatu...  \n",
       "1              AirtemperatureBarometricpressureWinds  \n",
       "2              AirtemperatureBarometricpressureWinds  \n",
       "3              AirtemperatureBarometricpressureWinds  \n",
       "4                                AirtemperatureWinds  "
      ]
     },
     "execution_count": 176,
     "metadata": {},
     "output_type": "execute_result"
    }
   ],
   "source": [
    "pd.read_html('https://sdf.ndbc.noaa.gov/stations.shtml')[4].head()"
   ]
  },
  {
   "cell_type": "code",
   "execution_count": 177,
   "metadata": {},
   "outputs": [],
   "source": [
    "closest_buoy = find_closest_buoy(LAT, LON)\n",
    "buoy = by.Buoy(closest_buoy)"
   ]
  },
  {
   "cell_type": "code",
   "execution_count": 178,
   "metadata": {},
   "outputs": [
    {
     "data": {
      "text/plain": [
       "'BUZM3'"
      ]
     },
     "execution_count": 178,
     "metadata": {},
     "output_type": "execute_result"
    }
   ],
   "source": [
    "closest_buoy"
   ]
  },
  {
   "cell_type": "code",
   "execution_count": 179,
   "metadata": {},
   "outputs": [
    {
     "ename": "TypeError",
     "evalue": "'NoneType' object is not subscriptable",
     "output_type": "error",
     "traceback": [
      "\u001b[0;31m---------------------------------------------------------------------------\u001b[0m",
      "\u001b[0;31mTypeError\u001b[0m                                 Traceback (most recent call last)",
      "\u001b[0;32m<ipython-input-179-b3bb785ffbe3>\u001b[0m in \u001b[0;36m<module>\u001b[0;34m()\u001b[0m\n\u001b[1;32m      3\u001b[0m \u001b[0mtemperature_air_f\u001b[0m \u001b[0;34m=\u001b[0m \u001b[0mbuoy\u001b[0m\u001b[0;34m.\u001b[0m\u001b[0mair_temperature\u001b[0m \u001b[0;34m*\u001b[0m \u001b[0;36m9.0\u001b[0m \u001b[0;34m/\u001b[0m \u001b[0;36m5.0\u001b[0m \u001b[0;34m+\u001b[0m \u001b[0;36m32.0\u001b[0m\u001b[0;34m\u001b[0m\u001b[0;34m\u001b[0m\u001b[0m\n\u001b[1;32m      4\u001b[0m \u001b[0mtemperature_h2o_f\u001b[0m \u001b[0;34m=\u001b[0m \u001b[0mbuoy\u001b[0m\u001b[0;34m.\u001b[0m\u001b[0msea_water_temperature\u001b[0m \u001b[0;34m*\u001b[0m \u001b[0;36m9.0\u001b[0m \u001b[0;34m/\u001b[0m \u001b[0;36m5.0\u001b[0m \u001b[0;34m+\u001b[0m \u001b[0;36m32.0\u001b[0m\u001b[0;34m\u001b[0m\u001b[0;34m\u001b[0m\u001b[0m\n\u001b[0;32m----> 5\u001b[0;31m \u001b[0mwave_height_ft\u001b[0m \u001b[0;34m=\u001b[0m \u001b[0mbuoy\u001b[0m\u001b[0;34m.\u001b[0m\u001b[0mwaves\u001b[0m\u001b[0;34m[\u001b[0m\u001b[0;34m'sea_surface_wave_significant_height'\u001b[0m\u001b[0;34m]\u001b[0m \u001b[0;34m*\u001b[0m \u001b[0;36m3.28084\u001b[0m\u001b[0;34m\u001b[0m\u001b[0;34m\u001b[0m\u001b[0m\n\u001b[0m\u001b[1;32m      6\u001b[0m \u001b[0mwind_dir\u001b[0m \u001b[0;34m=\u001b[0m \u001b[0mbuoy\u001b[0m\u001b[0;34m.\u001b[0m\u001b[0mwinds\u001b[0m\u001b[0;34m[\u001b[0m\u001b[0;34m'wind_from_direction'\u001b[0m\u001b[0;34m]\u001b[0m\u001b[0;34m\u001b[0m\u001b[0;34m\u001b[0m\u001b[0m\n\u001b[1;32m      7\u001b[0m \u001b[0mwind_speed_kts\u001b[0m \u001b[0;34m=\u001b[0m \u001b[0mbuoy\u001b[0m\u001b[0;34m.\u001b[0m\u001b[0mwinds\u001b[0m\u001b[0;34m[\u001b[0m\u001b[0;34m'wind_speed'\u001b[0m\u001b[0;34m]\u001b[0m \u001b[0;34m*\u001b[0m \u001b[0;36m1.9438444924406\u001b[0m\u001b[0;34m\u001b[0m\u001b[0;34m\u001b[0m\u001b[0m\n",
      "\u001b[0;31mTypeError\u001b[0m: 'NoneType' object is not subscriptable"
     ]
    }
   ],
   "source": [
    "#Extract the latest weather data from the buoy\n",
    "pressure_mb = buoy.air_pressure_at_sea_level\n",
    "temperature_air_f = buoy.air_temperature * 9.0 / 5.0 + 32.0\n",
    "temperature_h2o_f = buoy.sea_water_temperature * 9.0 / 5.0 + 32.0\n",
    "wave_height_ft = buoy.waves['sea_surface_wave_significant_height'] * 3.28084\n",
    "wind_dir = buoy.winds['wind_from_direction'] \n",
    "wind_speed_kts = buoy.winds['wind_speed'] * 1.9438444924406\n",
    "wind_gust_kts = buoy.winds['wind_speed_of_gust'] * 1.9438444924406 \n",
    "distance_mi = haversine(LON, LAT, buoy.coords[1], buoy.coords[0]) * 0.6213712"
   ]
  },
  {
   "cell_type": "code",
   "execution_count": null,
   "metadata": {},
   "outputs": [],
   "source": [
    "distance_mi"
   ]
  },
  {
   "cell_type": "code",
   "execution_count": null,
   "metadata": {},
   "outputs": [],
   "source": []
  }
 ],
 "metadata": {
  "kernelspec": {
   "display_name": "Python 3",
   "language": "python",
   "name": "python3"
  },
  "language_info": {
   "codemirror_mode": {
    "name": "ipython",
    "version": 3
   },
   "file_extension": ".py",
   "mimetype": "text/x-python",
   "name": "python",
   "nbconvert_exporter": "python",
   "pygments_lexer": "ipython3",
   "version": "3.7.3"
  }
 },
 "nbformat": 4,
 "nbformat_minor": 2
}
