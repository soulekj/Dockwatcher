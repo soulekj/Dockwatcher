{
 "cells": [
  {
   "cell_type": "code",
   "execution_count": 1,
   "metadata": {},
   "outputs": [],
   "source": [
    "from sense_hat import SenseHat  \n",
    "import time  \n",
    "import sys\n",
    "import pandas as pd\n",
    "import numpy as np\n",
    "from datetime import datetime\n",
    "from datetime import timedelta\n",
    "  \n",
    "# --------- User Settings ---------\n",
    "SEA_STATE_SPAN_SEC = 10\n",
    "MINUTES_BETWEEN_SENSEHAT_READS = 15\n",
    "# ---------------------------------\n",
    "\n",
    "sense = SenseHat()  "
   ]
  },
  {
   "cell_type": "code",
   "execution_count": 26,
   "metadata": {},
   "outputs": [],
   "source": [
    "##Track orientation data over a set timelimit to measure seastate\n",
    "orientation = pd.DataFrame(columns = ['roll', 'pitch', 'yaw'])\n",
    "time_start = datetime.now()\n",
    "\n",
    "while datetime.now() <= (time_start + timedelta(0,SEA_STATE_SPAN_SEC)):\n",
    "    orientation = orientation.append(sense.get_orientation(), ignore_index = True)"
   ]
  },
  {
   "cell_type": "code",
   "execution_count": 27,
   "metadata": {},
   "outputs": [],
   "source": [
    "orientation_delta = np.sin(np.deg2rad(orientation))*180/np.pi\n",
    "\n",
    "roll_mean = round(np.mean(orientation_delta[\"roll\"]), 0)\n",
    "pitch_mean = round(np.mean(orientation_delta[\"pitch\"]), 0)   \n",
    "yaw_mean = round(np.mean(orientation_delta[\"yaw\"]),0)\n",
    "\n",
    "roll_sd = round(np.std(orientation_delta[\"roll\"]), 0)\n",
    "pitch_sd = round(np.std(orientation_delta[\"pitch\"]), 0)\n",
    "yaw_sd = round(np.std(orientation_delta[\"yaw\"]), 0)"
   ]
  },
  {
   "cell_type": "code",
   "execution_count": 28,
   "metadata": {},
   "outputs": [
    {
     "name": "stdout",
     "output_type": "stream",
     "text": [
      "3.0\n",
      "0.0\n",
      "39.0\n",
      "16.0\n",
      "2.0\n",
      "4.0\n"
     ]
    }
   ],
   "source": [
    "print(roll_mean)\n",
    "print(pitch_mean)\n",
    "print(yaw_mean)\n",
    "\n",
    "print(roll_sd)\n",
    "print(pitch_sd)\n",
    "print(yaw_sd)"
   ]
  },
  {
   "cell_type": "code",
   "execution_count": 13,
   "metadata": {},
   "outputs": [
    {
     "name": "stdout",
     "output_type": "stream",
     "text": [
      "Temperature (F) 101.0\n",
      "Humidity (%) 101.0\n",
      "Pressure (mb) 101.0\n",
      "Compass Heading (o) 101.0\n"
     ]
    }
   ],
   "source": [
    "## Pull in the rest of the sensor data\n",
    "# Read the sensors\n",
    "temp_c = sense.get_temperature()\n",
    "humidity = sense.get_humidity() \n",
    "pressure_mb = sense.get_pressure()\n",
    "mag = sense.get_compass()\n",
    "\n",
    "# Format the data\n",
    "temp_f = temp_c * 9.0 / 5.0 + 32.0\n",
    "temp_f = float(round(temp_f,0))\n",
    "humidity = float(round(temp_f,0))\n",
    "pressure_mb = float(round(temp_f,0))\n",
    "mag = float(round(temp_f,0))"
   ]
  },
  {
   "cell_type": "code",
   "execution_count": 122,
   "metadata": {},
   "outputs": [
    {
     "name": "stdout",
     "output_type": "stream",
     "text": [
      "Temperature (F) 101.0\n",
      "Humidity (%) 101.0\n",
      "Pressure (mb) 101.0\n",
      "Compass Heading (o) 101.0\n",
      "Roll (o) 12.0\n",
      "Pitch (o) 7.0\n",
      "Yaw (o) 54.0\n",
      "Roll StDev (o)) 14.0\n",
      "Pitch StDev (o) 15.0\n",
      "Yaw StDev (o) 8.0\n"
     ]
    }
   ],
   "source": [
    "# Print and stream \n",
    "print(\"Temperature (F)\", temp_f)\n",
    "print(\"Humidity (%)\", humidity)\n",
    "print(\"Pressure (mb)\", pressure_mb)\n",
    "print(\"Compass Heading (o)\", mag)\n",
    "print(\"Roll (o)\", roll_mean)\n",
    "print(\"Pitch (o)\", pitch_mean)\n",
    "print(\"Yaw (o)\", yaw_mean)\n",
    "print(\"Roll StDev (o)\", roll_sd)\n",
    "print(\"Pitch StDev (o)\", pitch_sd)\n",
    "print(\"Yaw StDev (o)\", yaw_sd)\n"
   ]
  },
  {
   "cell_type": "code",
   "execution_count": null,
   "metadata": {},
   "outputs": [],
   "source": []
  }
 ],
 "metadata": {
  "kernelspec": {
   "display_name": "Python 3",
   "language": "python",
   "name": "python3"
  },
  "language_info": {
   "codemirror_mode": {
    "name": "ipython",
    "version": 3
   },
   "file_extension": ".py",
   "mimetype": "text/x-python",
   "name": "python",
   "nbconvert_exporter": "python",
   "pygments_lexer": "ipython3",
   "version": "3.7.3"
  }
 },
 "nbformat": 4,
 "nbformat_minor": 2
}
