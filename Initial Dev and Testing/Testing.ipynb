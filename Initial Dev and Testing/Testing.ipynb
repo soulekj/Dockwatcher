{
 "cells": [
  {
   "cell_type": "code",
   "execution_count": 3,
   "metadata": {},
   "outputs": [],
   "source": [
    "##to do\n",
    "#troubleshoot why force quits happen (NOAA BUOY SCRIPT)\n",
    "#generate buoy list if it doesn't exist already\n",
    "#synchronize pi clock with gps clock\n",
    "#add in weather forecast details\n",
    "#configure alarms / alerts (within initial sync)\n",
    "#Make user settings a separate text file\n",
    "#Make sure only to pull in weather buoy data from buoy that is reporting wind\n",
    "#Define streaming as a function and have option to overide internal GPS with preset coordinates\n",
    "#Add in logic for correcting for temperature\n",
    "\n",
    "\n",
    "import time  \n",
    "import sys\n",
    "from datetime import datetime\n",
    "from ISStreamer.Streamer import Streamer  \n",
    "from sensehat_data import sense_data        #custom function\n",
    "from noaa_buoy_data import noaa_buoy        #custom function\n",
    "from gps_data import get_gps                #custom function\n",
    "\n",
    "\n",
    "# --------- User Settings ---------\n",
    "BUCKET_NAME = \"Aurora Dock-Watcher\"\n",
    "BUCKET_KEY = \"K6S8MB67WJLS\"\n",
    "ACCESS_KEY = \"ist_47mQx4kg8OSYyh1l-k8atYDGJSM2SglH\"\n",
    "MINUTES_BETWEEN_SENSEHAT_READS = .5\n",
    "SEA_STATE_SPAN_SEC = 10\n",
    "GPS_FIX_SEC = 10\n",
    "CURRENT_LAT = 41.77  #default values for Providence, will be updated after first fix\n",
    "CURRENT_LON = -71.39 #default values for Providence, will be updated after first fix\n",
    "# --------------------------------"
   ]
  },
  {
   "cell_type": "code",
   "execution_count": null,
   "metadata": {},
   "outputs": [],
   "source": [
    "gps_loc = get_gps(GPS_FIX_SEC)                                      #Number is the timeout for finding a GPS fix\n",
    "if (gps_loc['Lat'] != None) & (gps_loc['Lon'] != None):\n",
    "    CURRENT_LAT = gps_loc['Lat']\n",
    "    CURRENT_LON = gps_loc['Lon']\n",
    "loc_coord_str = {\n",
    "    \"Location\": str(CURRENT_LAT) + \"N, \" + str(CURRENT_LON*(-1)) + \"W\"      #Assumes always in NW hemisphere\n",
    "    }\n",
    "print(gps_loc)"
   ]
  },
  {
   "cell_type": "code",
   "execution_count": 4,
   "metadata": {},
   "outputs": [
    {
     "name": "stdout",
     "output_type": "stream",
     "text": [
      "{'Temperature (F)': 94.0, 'Humidity (%)': 20.0, 'Pressure (mb)': 915.0, 'Compass Heading': 22.0, 'Roll (deg)': 2.0, 'Pitch (deg)': -11.0, 'Yaw (deg)': 21.0, 'Roll StDev (deg)': 0.0, 'Pitch StDev (deg)': 0.0, 'Yaw StDev (deg)': 0.0}\n"
     ]
    }
   ],
   "source": [
    "#Import data from SenseHat\n",
    "sh_snapshot = sense_data(SEA_STATE_SPAN_SEC)\n",
    "print(sh_snapshot)"
   ]
  },
  {
   "cell_type": "code",
   "execution_count": 5,
   "metadata": {},
   "outputs": [
    {
     "name": "stdout",
     "output_type": "stream",
     "text": [
      "{'Name': 'PVDR1 (1.0 nm away)', 'Timestamp': 'December 18, 2020 1:30 pm EST', 'Location': '41.786N 71.383W', 'Wind Direction (o)': 340.0, 'Wind Speeds (kts)': 6.0, 'Wind Gusts (kts)': 9.9, 'Pressure (mb)': 1022.8, 'Temperature (F)': 31.1, 'Dew Point (F)': 14.9, 'Visibility (nm)': 5.9}\n"
     ]
    }
   ],
   "source": [
    "#Import data from NOAA buoy\n",
    "buoy_snapshot = noaa_buoy(CURRENT_LAT, CURRENT_LON)\n",
    "print(buoy_snapshot)"
   ]
  },
  {
   "cell_type": "code",
   "execution_count": 6,
   "metadata": {},
   "outputs": [
    {
     "name": "stdout",
     "output_type": "stream",
     "text": [
      "{'Boat': 'Boat: December 18 2020, 14:01 pm EST', 'Buoy': 'PVDR1 (1.0 nm away): December 18, 2020 1:30 pm EST'}\n"
     ]
    }
   ],
   "source": [
    "#Create a summary tag to characterizes this reading\n",
    "readings = {\n",
    "    \"Boat\": 'Boat: ' + datetime.now().strftime(\"%B %d %Y, %H:%M\") + \" \" + str(datetime.now().strftime(\"%r\"))[9].lower() + \"m EST\",\n",
    "    \"Buoy\": buoy_snapshot['Name'] + ': ' + buoy_snapshot['Timestamp']\n",
    "    }\n",
    "print(readings)"
   ]
  },
  {
   "cell_type": "code",
   "execution_count": null,
   "metadata": {},
   "outputs": [],
   "source": [
    "print(sh_snapshot)\n",
    "print(buoy_snapshot)\n",
    "print(readings)"
   ]
  }
 ],
 "metadata": {
  "kernelspec": {
   "display_name": "Python 3",
   "language": "python",
   "name": "python3"
  },
  "language_info": {
   "codemirror_mode": {
    "name": "ipython",
    "version": 3
   },
   "file_extension": ".py",
   "mimetype": "text/x-python",
   "name": "python",
   "nbconvert_exporter": "python",
   "pygments_lexer": "ipython3",
   "version": "3.7.3"
  }
 },
 "nbformat": 4,
 "nbformat_minor": 2
}
