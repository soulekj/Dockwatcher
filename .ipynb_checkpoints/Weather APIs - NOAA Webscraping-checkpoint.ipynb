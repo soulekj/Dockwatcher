{
 "cells": [
  {
   "cell_type": "code",
   "execution_count": 78,
   "metadata": {},
   "outputs": [],
   "source": [
    "from requests import get\n",
    "import pandas as pd\n",
    "import feedparser as fp\n",
    "from haversine import haversine"
   ]
  },
  {
   "cell_type": "code",
   "execution_count": 4,
   "metadata": {},
   "outputs": [],
   "source": [
    "LAT = 41.77\n",
    "LON = -71.39"
   ]
  },
  {
   "cell_type": "code",
   "execution_count": 5,
   "metadata": {},
   "outputs": [],
   "source": [
    "#download the buoy list (one time only)\n",
    "#root = ET.fromstring(get('https://www.ndbc.noaa.gov/activestations.xml').text)\n",
    "#buoy_list = pd.DataFrame(columns = root[0].attrib.keys())\n",
    "#for entry in root:\n",
    "#    buoy_list = buoy_list.append(entry.attrib, ignore_index = True)\n",
    "#buoy_list.to_csv('NDBC_Buoy_List.csv', index = False)"
   ]
  },
  {
   "cell_type": "code",
   "execution_count": 6,
   "metadata": {},
   "outputs": [],
   "source": [
    "#read in csv data\n",
    "buoy_list = pd.read_csv('NDBC_Buoy_List.csv')\n",
    "buoy_list = buoy_list[buoy_list[\"met\"] == 'y']"
   ]
  },
  {
   "cell_type": "code",
   "execution_count": 7,
   "metadata": {},
   "outputs": [],
   "source": [
    "#Create a function to find the closet buoy on NOAA's list\n",
    "def find_closest_buoy(lat, lon, buoy_list):\n",
    "    smallest = 20036\n",
    "    for ind in buoy_list.index:\n",
    "        buoy_lon = buoy_list['lon'][ind]\n",
    "        buoy_lat = buoy_list['lat'][ind]\n",
    "        distance = haversine(LON, LAT, buoy_lon, buoy_lat)\n",
    "        if distance < smallest:\n",
    "            smallest = distance\n",
    "            closest = buoy_list['id'][ind]\n",
    "    return closest"
   ]
  },
  {
   "cell_type": "code",
   "execution_count": 47,
   "metadata": {},
   "outputs": [
    {
     "data": {
      "text/plain": [
       "'pvdr1'"
      ]
     },
     "execution_count": 47,
     "metadata": {},
     "output_type": "execute_result"
    }
   ],
   "source": [
    "buoy_name = find_closest_buoy(LAT, LON, buoy_list)\n",
    "buoy_name"
   ]
  },
  {
   "cell_type": "code",
   "execution_count": 68,
   "metadata": {},
   "outputs": [],
   "source": [
    "buoy_data = fp.parse('https://www.ndbc.noaa.gov/data/latest_obs/' + buoy_name + '.rss')"
   ]
  },
  {
   "cell_type": "code",
   "execution_count": 69,
   "metadata": {},
   "outputs": [
    {
     "name": "stdout",
     "output_type": "stream",
     "text": [
      "dict_keys(['published', 'published_parsed', 'title', 'title_detail', 'summary', 'summary_detail', 'links', 'link', 'id', 'guidislink', 'where'])\n"
     ]
    }
   ],
   "source": [
    "entry = buoy_data.entries[0]\n",
    "print(entry.keys())"
   ]
  },
  {
   "cell_type": "code",
   "execution_count": 70,
   "metadata": {},
   "outputs": [],
   "source": [
    "#root = ET.fromstring(get('https://www.ndbc.noaa.gov/activestations.xml').text)\n",
    "#buoy_list = pd.DataFrame(columns = root[0].attrib.keys())\n",
    "#for entry in root:\n",
    "#    buoy_list = buoy_list.append(entry.attrib, ignore_index = True)"
   ]
  },
  {
   "cell_type": "code",
   "execution_count": 71,
   "metadata": {},
   "outputs": [
    {
     "data": {
      "text/plain": [
       "'<strong>December 14, 2020 8:00 am EST</strong><br />\\n        <strong>Location:</strong> 41.786N 71.383W<br />\\n        <strong>Wind Direction:</strong> NNW (340&#176;)<br />\\n        <strong>Wind Speed:</strong> 8.9 knots<br />\\n        <strong>Wind Gust:</strong> 13.0 knots<br />\\n        <strong>Atmospheric Pressure:</strong> 30.00 in (1015.9 mb)<br />\\n        <strong>Pressure Tendency:</strong> +0.04 in (+1.3 mb)<br />\\n        <strong>Visibility:</strong> 5.9 nmi<br />'"
      ]
     },
     "execution_count": 71,
     "metadata": {},
     "output_type": "execute_result"
    }
   ],
   "source": [
    "entry.summary"
   ]
  },
  {
   "cell_type": "code",
   "execution_count": 64,
   "metadata": {},
   "outputs": [],
   "source": [
    "#buoy_data = get('https://www.ndbc.noaa.gov/data/latest_obs/' + buoy_name + '.rss')"
   ]
  },
  {
   "cell_type": "code",
   "execution_count": 67,
   "metadata": {},
   "outputs": [
    {
     "data": {
      "text/plain": [
       "b'<?xml version=\"1.0\"?>\\n<?xml-stylesheet type=\"text/xsl\" href=\"/rss/ndbcrss.xsl\"?>\\n<rss version=\"2.0\" xmlns:georss=\"http://www.georss.org/georss\" xmlns:dc=\"http://purl.org/dc/elements/1.1/\" xmlns:atom=\"http://www.w3.org/2005/Atom\">\\n  <channel>\\n    <title>NDBC - Station PVDR1 - 8453662 - Providence Visibility, RI Observations</title>\\n    <description><![CDATA[This feed shows recent marine weather observations from Station PVDR1.]]></description>\\n    <link>https://www.ndbc.noaa.gov/</link>\\n    <pubDate>Mon, 14 Dec 2020 13:35:25 +0000</pubDate>\\n    <lastBuildDate>Mon, 14 Dec 2020 13:35:25 +0000</lastBuildDate>\\n    <ttl>30</ttl>\\n    <language>en-us</language>\\n    <managingEditor>webmaster.ndbc@noaa.gov (NDBC Webmaster)</managingEditor>\\n    <webMaster>webmaster.ndbc@noaa.gov (NDBC Webmaster)</webMaster>\\n    <image>\\n      <url>https://www.ndbc.noaa.gov/images/noaa_nws_xml_logo.gif</url>\\n      <title>NDBC - Station PVDR1 - 8453662 - Providence Visibility, RI Observations</title>\\n      <link>https://www.ndbc.noaa.gov/</link>\\n    </image>\\n    <atom:link href=\"https://www.ndbc.noaa.gov/data/latest_obs/pvdr1.rss\" rel=\"self\" type=\"application/rss+xml\" />\\n    <item>\\n      <pubDate>Mon, 14 Dec 2020 13:35:25 +0000</pubDate>\\n      <title>Station PVDR1 - 8453662 - Providence Visibility, RI</title>\\n      <description><![CDATA[\\n        <strong>December 14, 2020 8:00 am EST</strong><br />\\n        <strong>Location:</strong> 41.786N 71.383W<br />\\n        <strong>Wind Direction:</strong> NNW (340&#176;)<br />\\n        <strong>Wind Speed:</strong> 8.9 knots<br />\\n        <strong>Wind Gust:</strong> 13.0 knots<br />\\n        <strong>Atmospheric Pressure:</strong> 30.00 in (1015.9 mb)<br />\\n        <strong>Pressure Tendency:</strong> +0.04 in (+1.3 mb)<br />\\n        <strong>Visibility:</strong> 5.9 nmi<br />\\n      ]]></description>\\n      <link>https://www.ndbc.noaa.gov/station_page.php?station=pvdr1</link>\\n      <guid isPermaLink=\"false\">NDBC-PVDR1-20201214130000</guid>\\n      <georss:point>41.786 -71.383</georss:point>\\n    </item>\\n  </channel>\\n</rss>\\n'"
      ]
     },
     "execution_count": 67,
     "metadata": {},
     "output_type": "execute_result"
    }
   ],
   "source": [
    "#buoy_data.content"
   ]
  },
  {
   "cell_type": "code",
   "execution_count": 72,
   "metadata": {},
   "outputs": [
    {
     "data": {
      "text/plain": [
       "'December 14, 2020 8:00 am EST<br />\\n        Location: 41.786N 71.383W<br />\\n        Wind Direction: NNW (340&#176;)<br />\\n        Wind Speed: 8.9 knots<br />\\n        Wind Gust: 13.0 knots<br />\\n        Atmospheric Pressure: 30.00 in (1015.9 mb)<br />\\n        Pressure Tendency: +0.04 in (+1.3 mb)<br />\\n        Visibility: 5.9 nmi<br />'"
      ]
     },
     "execution_count": 72,
     "metadata": {},
     "output_type": "execute_result"
    }
   ],
   "source": [
    "buoy_raw = entry.summary.replace('<strong>', '').replace('</strong>', '')\n",
    "buoy_raw"
   ]
  },
  {
   "cell_type": "code",
   "execution_count": 73,
   "metadata": {},
   "outputs": [
    {
     "data": {
      "text/plain": [
       "'December 14, 2020 8:00 am EST'"
      ]
     },
     "execution_count": 73,
     "metadata": {},
     "output_type": "execute_result"
    }
   ],
   "source": [
    "#Timestamp\n",
    "ts_end = buoy_raw.index('<br />')\n",
    "buoy_ts = buoy_raw[0:ts_end]\n",
    "buoy_ts"
   ]
  },
  {
   "cell_type": "code",
   "execution_count": 75,
   "metadata": {},
   "outputs": [
    {
     "data": {
      "text/plain": [
       "'41.786N 71.383W'"
      ]
     },
     "execution_count": 75,
     "metadata": {},
     "output_type": "execute_result"
    }
   ],
   "source": [
    "#location\n",
    "loc_start = buoy_raw.index('Location: ') + 10\n",
    "loc_end = buoy_raw[loc_start:].index('<br />') + loc_start\n",
    "buoy_loc = buoy_raw[loc_start:loc_end]\n",
    "buoy_loc"
   ]
  },
  {
   "cell_type": "code",
   "execution_count": 79,
   "metadata": {},
   "outputs": [
    {
     "data": {
      "text/plain": [
       "1.9"
      ]
     },
     "execution_count": 79,
     "metadata": {},
     "output_type": "execute_result"
    }
   ],
   "source": [
    "buoy_loc_lat = float(buoy_loc[0:buoy_loc.index('N')])\n",
    "buoy_loc_lon = float(buoy_loc[buoy_loc.index(' ')+1:-1])*-1\n",
    "buoy_dist = round(haversine(LON, LAT, buoy_loc_lon, buoy_loc_lat), 1)\n",
    "buoy_dist"
   ]
  },
  {
   "cell_type": "code",
   "execution_count": 80,
   "metadata": {},
   "outputs": [
    {
     "data": {
      "text/plain": [
       "340.0"
      ]
     },
     "execution_count": 80,
     "metadata": {},
     "output_type": "execute_result"
    }
   ],
   "source": [
    "#Wind Direction\n",
    "wd_start = buoy_raw.index('Wind Direction: ') + 16\n",
    "wd_end = buoy_raw[wd_start:].index('<br />') + wd_start\n",
    "buoy_wd = buoy_raw[wd_start:wd_end]\n",
    "buoy_wd_deg = float(buoy_wd[buoy_wd.index('(')+1:buoy_wd.index('&')])\n",
    "buoy_wd_deg"
   ]
  },
  {
   "cell_type": "code",
   "execution_count": 81,
   "metadata": {},
   "outputs": [
    {
     "data": {
      "text/plain": [
       "8.9"
      ]
     },
     "execution_count": 81,
     "metadata": {},
     "output_type": "execute_result"
    }
   ],
   "source": [
    "#Wind Speed\n",
    "wspd_start = buoy_raw.index('Wind Speed: ') + 12\n",
    "wspd_end = buoy_raw[wspd_start:].index('<br />') + wspd_start\n",
    "buoy_wspd = buoy_raw[wspd_start:wspd_end]\n",
    "buoy_wspd_kts = float(buoy_wspd[0:buoy_wspd.index(' ')])\n",
    "buoy_wspd_kts"
   ]
  },
  {
   "cell_type": "code",
   "execution_count": 82,
   "metadata": {},
   "outputs": [
    {
     "data": {
      "text/plain": [
       "13.0"
      ]
     },
     "execution_count": 82,
     "metadata": {},
     "output_type": "execute_result"
    }
   ],
   "source": [
    "#Wind Gust\n",
    "wgst_start = buoy_raw.index('Wind Gust: ') + 11\n",
    "wgst_end = buoy_raw[wgst_start:].index('<br />') + wgst_start\n",
    "buoy_wgst = buoy_raw[wgst_start:wgst_end]\n",
    "buoy_wgst_kts = float(buoy_wgst[0:buoy_wgst.index(' ')])\n",
    "buoy_wgst_kts"
   ]
  },
  {
   "cell_type": "code",
   "execution_count": 83,
   "metadata": {},
   "outputs": [
    {
     "data": {
      "text/plain": [
       "1015.9"
      ]
     },
     "execution_count": 83,
     "metadata": {},
     "output_type": "execute_result"
    }
   ],
   "source": [
    "#Atmospheric Pressure\n",
    "atm_start = buoy_raw.index('Atmospheric Pressure: ') + 22\n",
    "atm_end = buoy_raw[atm_start:].index('<br />') + atm_start\n",
    "buoy_atm = buoy_raw[atm_start:atm_end]\n",
    "buoy_atm_mb = float(buoy_atm[buoy_atm.index('(')+1:buoy_atm.index(' mb')])\n",
    "buoy_atm_mb"
   ]
  },
  {
   "cell_type": "code",
   "execution_count": 84,
   "metadata": {},
   "outputs": [
    {
     "ename": "ValueError",
     "evalue": "substring not found",
     "output_type": "error",
     "traceback": [
      "\u001b[0;31m---------------------------------------------------------------------------\u001b[0m",
      "\u001b[0;31mValueError\u001b[0m                                Traceback (most recent call last)",
      "\u001b[0;32m<ipython-input-84-7176bbbbfe15>\u001b[0m in \u001b[0;36m<module>\u001b[0;34m()\u001b[0m\n\u001b[1;32m      1\u001b[0m \u001b[0;31m#Air Temperature\u001b[0m\u001b[0;34m\u001b[0m\u001b[0;34m\u001b[0m\u001b[0;34m\u001b[0m\u001b[0m\n\u001b[0;32m----> 2\u001b[0;31m \u001b[0mtemp_start\u001b[0m \u001b[0;34m=\u001b[0m \u001b[0mbuoy_raw\u001b[0m\u001b[0;34m.\u001b[0m\u001b[0mindex\u001b[0m\u001b[0;34m(\u001b[0m\u001b[0;34m'Air Temperature: '\u001b[0m\u001b[0;34m)\u001b[0m \u001b[0;34m+\u001b[0m \u001b[0;36m17\u001b[0m\u001b[0;34m\u001b[0m\u001b[0;34m\u001b[0m\u001b[0m\n\u001b[0m\u001b[1;32m      3\u001b[0m \u001b[0mtemp_end\u001b[0m \u001b[0;34m=\u001b[0m \u001b[0mbuoy_raw\u001b[0m\u001b[0;34m[\u001b[0m\u001b[0mtemp_start\u001b[0m\u001b[0;34m:\u001b[0m\u001b[0;34m]\u001b[0m\u001b[0;34m.\u001b[0m\u001b[0mindex\u001b[0m\u001b[0;34m(\u001b[0m\u001b[0;34m'<br />'\u001b[0m\u001b[0;34m)\u001b[0m \u001b[0;34m+\u001b[0m \u001b[0mtemp_start\u001b[0m\u001b[0;34m\u001b[0m\u001b[0;34m\u001b[0m\u001b[0m\n\u001b[1;32m      4\u001b[0m \u001b[0mbuoy_temp\u001b[0m \u001b[0;34m=\u001b[0m \u001b[0mbuoy_raw\u001b[0m\u001b[0;34m[\u001b[0m\u001b[0mtemp_start\u001b[0m\u001b[0;34m:\u001b[0m\u001b[0mtemp_end\u001b[0m\u001b[0;34m]\u001b[0m\u001b[0;34m\u001b[0m\u001b[0;34m\u001b[0m\u001b[0m\n\u001b[1;32m      5\u001b[0m \u001b[0mbuoy_temp_F\u001b[0m \u001b[0;34m=\u001b[0m \u001b[0mfloat\u001b[0m\u001b[0;34m(\u001b[0m\u001b[0mbuoy_temp\u001b[0m\u001b[0;34m[\u001b[0m\u001b[0;36m0\u001b[0m\u001b[0;34m:\u001b[0m\u001b[0mbuoy_temp\u001b[0m\u001b[0;34m.\u001b[0m\u001b[0mindex\u001b[0m\u001b[0;34m(\u001b[0m\u001b[0;34m'&'\u001b[0m\u001b[0;34m)\u001b[0m\u001b[0;34m]\u001b[0m\u001b[0;34m)\u001b[0m\u001b[0;34m\u001b[0m\u001b[0;34m\u001b[0m\u001b[0m\n",
      "\u001b[0;31mValueError\u001b[0m: substring not found"
     ]
    }
   ],
   "source": [
    "#Air Temperature\n",
    "temp_start = buoy_raw.index('Air Temperature: ') + 17\n",
    "temp_end = buoy_raw[temp_start:].index('<br />') + temp_start\n",
    "buoy_temp = buoy_raw[temp_start:temp_end]\n",
    "buoy_temp_F = float(buoy_temp[0:buoy_temp.index('&')])\n",
    "buoy_temp_F"
   ]
  },
  {
   "cell_type": "code",
   "execution_count": 87,
   "metadata": {},
   "outputs": [
    {
     "name": "stdout",
     "output_type": "stream",
     "text": [
      "None\n"
     ]
    }
   ],
   "source": [
    "try:\n",
    "    buoy_raw.index('Air Temperature: ')\n",
    "except ValueError:\n",
    "    buoy_temp_F = None\n",
    "print(buoy_temp_F)"
   ]
  },
  {
   "cell_type": "code",
   "execution_count": 41,
   "metadata": {},
   "outputs": [
    {
     "data": {
      "text/plain": [
       "38.8"
      ]
     },
     "execution_count": 41,
     "metadata": {},
     "output_type": "execute_result"
    }
   ],
   "source": [
    "#Dew Point\n",
    "dpt_start = buoy_raw.index('Dew Point: ') + 11\n",
    "dpt_end = buoy_raw[dpt_start:].index('<br />') + dpt_start\n",
    "buoy_dpt = buoy_raw[dpt_start:dpt_end]\n",
    "buoy_dpt_F = float(buoy_dpt[0:buoy_temp.index('&')])\n",
    "buoy_dpt_F"
   ]
  },
  {
   "cell_type": "code",
   "execution_count": 42,
   "metadata": {},
   "outputs": [
    {
     "data": {
      "text/plain": [
       "5.9"
      ]
     },
     "execution_count": 42,
     "metadata": {},
     "output_type": "execute_result"
    }
   ],
   "source": [
    "#Visibility\n",
    "viz_start = buoy_raw.index('Visibility: ') + 12\n",
    "viz_end = buoy_raw[viz_start:].index('<br />') + viz_start\n",
    "buoy_viz = buoy_raw[viz_start:viz_end]\n",
    "buoy_viz_nm = float(buoy_viz[0:buoy_viz.index(' ')])\n",
    "buoy_viz_nm"
   ]
  },
  {
   "cell_type": "code",
   "execution_count": 43,
   "metadata": {},
   "outputs": [],
   "source": [
    "buoy_dict = {\n",
    "    \"Name\": buoy_name +' (' + str(buoy_dist) + ' nm away)',\n",
    "    \"Timestamp\": buoy_ts,\n",
    "    \"Location\": buoy_loc,\n",
    "    \"Wind Direction (o)\": buoy_wd_deg,\n",
    "    \"Wind Speeds (kts)\": buoy_wspd_kts,\n",
    "    \"Wind Gusts (kts)\": buoy_wgst_kts,\n",
    "    \"Pressure (mb)\": buoy_atm_mb,\n",
    "    \"Temperature (F)\": buoy_temp_F,\n",
    "    \"Dew Point (F)\": buoy_dpt_F,\n",
    "    \"Visibility (nm)\": buoy_viz_nm\n",
    "}"
   ]
  },
  {
   "cell_type": "code",
   "execution_count": 44,
   "metadata": {},
   "outputs": [
    {
     "data": {
      "text/plain": [
       "{'Name': 'pvdr1 (1.9 nm away)',\n",
       " 'Timestamp': 'December 13, 2020 8:54 pm EST',\n",
       " 'Location': '41.786N 71.383W',\n",
       " 'Wind Direction (o)': 320.0,\n",
       " 'Wind Speeds (kts)': 7.0,\n",
       " 'Wind Gusts (kts)': 8.9,\n",
       " 'Pressure (mb)': 1015.5,\n",
       " 'Temperature (F)': 48.4,\n",
       " 'Dew Point (F)': 38.8,\n",
       " 'Visibility (nm)': 5.9}"
      ]
     },
     "execution_count": 44,
     "metadata": {},
     "output_type": "execute_result"
    }
   ],
   "source": [
    "buoy_dict"
   ]
  },
  {
   "cell_type": "markdown",
   "metadata": {},
   "source": [
    "# Turn into Function that can be  called"
   ]
  },
  {
   "cell_type": "code",
   "execution_count": 88,
   "metadata": {},
   "outputs": [],
   "source": [
    "#To do:\n",
    "#add error handeling for import table, with code to generate it if there is an issue\n",
    "\n",
    "from requests import get\n",
    "import pandas as pd\n",
    "import feedparser as fp\n",
    "from haversine import haversine\n",
    "\n",
    "def noaa_buoy(LAT, LON):\n",
    "    \n",
    "    #read in csv data\n",
    "    buoy_list = pd.read_csv('NDBC_Buoy_List.csv')\n",
    "    buoy_list = buoy_list[buoy_list[\"met\"] == 'y']\n",
    "    \n",
    "    #find the closet buoy on NOAA's list\n",
    "    smallest = 21369              #circumference of earth of nm \n",
    "    for ind in buoy_list.index:\n",
    "        buoy_lon = buoy_list['lon'][ind]\n",
    "        buoy_lat = buoy_list['lat'][ind]\n",
    "        distance = haversine(LON, LAT, buoy_lon, buoy_lat)\n",
    "        if distance < smallest:\n",
    "            smallest = distance\n",
    "            closest = buoy_list['id'][ind]\n",
    "    buoy_name = closest\n",
    "    buoy_dist = round(float(smallest),1)\n",
    "    \n",
    "    #scrape the buoy data from NOAA's website\n",
    "    buoy_data = fp.parse('https://www.ndbc.noaa.gov/data/latest_obs/' + buoy_name + '.rss')\n",
    "    entry = buoy_data.entries[0]\n",
    "    buoy_raw = entry.summary.replace('<strong>', '').replace('</strong>', '')\n",
    "    \n",
    "    #Timestamp\n",
    "    ts_end = buoy_raw.index('<br />')\n",
    "    buoy_ts = buoy_raw[0:ts_end]\n",
    "    \n",
    "    #location\n",
    "    loc_start = buoy_raw.index('Location: ') + 10\n",
    "    loc_end = buoy_raw[loc_start:].index('<br />') + loc_start\n",
    "    buoy_loc = buoy_raw[loc_start:loc_end]\n",
    "    \n",
    "    #wind direction\n",
    "    try:\n",
    "        wd_start = buoy_raw.index('Wind Direction: ') + 16\n",
    "        wd_end = buoy_raw[wd_start:].index('<br />') + wd_start\n",
    "        buoy_wd = buoy_raw[wd_start:wd_end]\n",
    "        buoy_wd_deg = float(buoy_wd[buoy_wd.index('(')+1:buoy_wd.index('&')])\n",
    "    except:\n",
    "        buoy_wd_deg = None\n",
    "    \n",
    "    #Wind Speed\n",
    "    try:\n",
    "        wspd_start = buoy_raw.index('Wind Speed: ') + 12\n",
    "        wspd_end = buoy_raw[wspd_start:].index('<br />') + wspd_start\n",
    "        buoy_wspd = buoy_raw[wspd_start:wspd_end]\n",
    "        buoy_wspd_kts = float(buoy_wspd[0:buoy_wspd.index(' ')])\n",
    "    except: buoy_wspd_kts = None\n",
    "    \n",
    "    #Wind Gust\n",
    "    try:\n",
    "        wgst_start = buoy_raw.index('Wind Gust: ') + 11\n",
    "        wgst_end = buoy_raw[wgst_start:].index('<br />') + wgst_start\n",
    "        buoy_wgst = buoy_raw[wgst_start:wgst_end]\n",
    "        buoy_wgst_kts = float(buoy_wgst[0:buoy_wgst.index(' ')])\n",
    "    except: buoy_wgst_kts = None\n",
    "\n",
    "    #Atmospheric Pressure\n",
    "    try:\n",
    "        atm_start = buoy_raw.index('Atmospheric Pressure: ') + 22\n",
    "        atm_end = buoy_raw[atm_start:].index('<br />') + atm_start\n",
    "        buoy_atm = buoy_raw[atm_start:atm_end]\n",
    "        buoy_atm_mb = float(buoy_atm[buoy_atm.index('(')+1:buoy_atm.index(' mb')])\n",
    "    except: buoy_atm_mb = None\n",
    "\n",
    "    #Air Temperature\n",
    "    try:\n",
    "        temp_start = buoy_raw.index('Air Temperature: ') + 17\n",
    "        temp_end = buoy_raw[temp_start:].index('<br />') + temp_start\n",
    "        buoy_temp = buoy_raw[temp_start:temp_end]\n",
    "        buoy_temp_F = float(buoy_temp[0:buoy_temp.index('&')])\n",
    "    except: buoy_temp_F = None\n",
    "\n",
    "    #Dew Point\n",
    "    try:\n",
    "        dpt_start = buoy_raw.index('Dew Point: ') + 11\n",
    "        dpt_end = buoy_raw[dpt_start:].index('<br />') + dpt_start\n",
    "        buoy_dpt = buoy_raw[dpt_start:dpt_end]\n",
    "        buoy_dpt_F = float(buoy_dpt[0:buoy_temp.index('&')])\n",
    "    except: buoy_dpt_F = None\n",
    "    \n",
    "    #Visibility\n",
    "    try:\n",
    "        viz_start = buoy_raw.index('Visibility: ') + 12\n",
    "        viz_end = buoy_raw[viz_start:].index('<br />') + viz_start\n",
    "        buoy_viz = buoy_raw[viz_start:viz_end]\n",
    "        buoy_viz_nm = float(buoy_viz[0:buoy_viz.index(' ')])\n",
    "    except: buoy_viz_nm = None\n",
    "    \n",
    "    buoy_dict = {\n",
    "    \"Name\": buoy_name +' (' + str(buoy_dist) + ' nm away)',\n",
    "    \"Timestamp\": buoy_ts,\n",
    "    \"Location\": buoy_loc,\n",
    "    \"Wind Direction (o)\": buoy_wd_deg,\n",
    "    \"Wind Speeds (kts)\": buoy_wspd_kts,\n",
    "    \"Wind Gusts (kts)\": buoy_wgst_kts,\n",
    "    \"Pressure (mb)\": buoy_atm_mb,\n",
    "    \"Temperature (F)\": buoy_temp_F,\n",
    "    \"Dew Point (F)\": buoy_dpt_F,\n",
    "    \"Visibility (nm)\": buoy_viz_nm\n",
    "    }\n",
    "    \n",
    "    return buoy_dict"
   ]
  },
  {
   "cell_type": "code",
   "execution_count": 90,
   "metadata": {},
   "outputs": [
    {
     "name": "stdout",
     "output_type": "stream",
     "text": [
      "{'Name': '23009 (3472 nm away)', 'Timestamp': 'December 14, 2020 1300 UTC', 'Location': '15N 90E', 'Wind Direction (o)': 43.0, 'Wind Speeds (kts)': 14.8, 'Wind Gusts (kts)': None, 'Pressure (mb)': 1011.3, 'Temperature (F)': 81.7, 'Dew Point (F)': None, 'Visibility (nm)': None}\n"
     ]
    }
   ],
   "source": [
    "CURRENT_LAT = 41.77\n",
    "CURRENT_LON = -71.39\n",
    "test_snapshot = noaa_buoy(CURRENT_LAT, CURRENT_LON)\n",
    "print(test_snapshot) "
   ]
  },
  {
   "cell_type": "code",
   "execution_count": null,
   "metadata": {},
   "outputs": [],
   "source": []
  }
 ],
 "metadata": {
  "kernelspec": {
   "display_name": "Python 3",
   "language": "python",
   "name": "python3"
  },
  "language_info": {
   "codemirror_mode": {
    "name": "ipython",
    "version": 3
   },
   "file_extension": ".py",
   "mimetype": "text/x-python",
   "name": "python",
   "nbconvert_exporter": "python",
   "pygments_lexer": "ipython3",
   "version": "3.7.3"
  }
 },
 "nbformat": 4,
 "nbformat_minor": 2
}
