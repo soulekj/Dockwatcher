{
 "cells": [
  {
   "cell_type": "code",
   "execution_count": null,
   "metadata": {},
   "outputs": [],
   "source": [
    "import gps\n",
    "import time"
   ]
  },
  {
   "cell_type": "markdown",
   "metadata": {},
   "source": [
    "## Create Function to Grab GPS Data"
   ]
  },
  {
   "cell_type": "code",
   "execution_count": 60,
   "metadata": {
    "scrolled": true
   },
   "outputs": [],
   "source": [
    "def get_gps(timeout):\n",
    "    \n",
    "    #create dictionary to store gps data\n",
    "    gps_data = {\n",
    "        \"Lat\": None,\n",
    "        \"Lon\": None\n",
    "    }\n",
    "\n",
    "    #open gps nmea stream\n",
    "    gpsd = gps.gps()\n",
    "    gpsd.stream(gps.WATCH_ENABLE|gps.WATCH_NEWSTYLE)\n",
    "\n",
    "    #keep checking for gps status until a fix can be made or until timeout is reached\n",
    "    gps_status = 0\n",
    "    i = 0\n",
    "    while (gps_status == 0) & (i < timeout):\n",
    "        try:\n",
    "            for report in gpsd: \n",
    "                if report['class'] == 'TPV':\n",
    "                    gps_data['Lat'] = report['lat']\n",
    "                    gps_data['Lon'] = report['lon']\n",
    "                    gps_status = 1\n",
    "                    break\n",
    "        except: \n",
    "            gps_status = 0\n",
    "            i = i+1\n",
    "            time.sleep(1) #pause 1 second between retrying\n",
    "\n",
    "    return(gps_data)"
   ]
  },
  {
   "cell_type": "code",
   "execution_count": 73,
   "metadata": {},
   "outputs": [
    {
     "name": "stdout",
     "output_type": "stream",
     "text": [
      "None\n",
      "None\n"
     ]
    }
   ],
   "source": [
    "fix = get_gps(60)\n",
    "print(fix['Lat'])\n",
    "print(fix['Lon'])"
   ]
  },
  {
   "cell_type": "code",
   "execution_count": 75,
   "metadata": {},
   "outputs": [],
   "source": [
    "CURRENT_LAT = 41.77 #PVD\n",
    "CURRENT_LON = -71.39 #PVD"
   ]
  },
  {
   "cell_type": "code",
   "execution_count": 72,
   "metadata": {},
   "outputs": [
    {
     "data": {
      "text/plain": [
       "False"
      ]
     },
     "execution_count": 72,
     "metadata": {},
     "output_type": "execute_result"
    }
   ],
   "source": [
    "if (fix['Lat'] != None) & (fix['Lon'] != None):\n",
    "    "
   ]
  },
  {
   "cell_type": "code",
   "execution_count": 77,
   "metadata": {},
   "outputs": [
    {
     "data": {
      "text/plain": [
       "'41.77N, 71.39W'"
      ]
     },
     "execution_count": 77,
     "metadata": {},
     "output_type": "execute_result"
    }
   ],
   "source": [
    "str(CURRENT_LAT) + \"N, \" + str(CURRENT_LON*(-1)) + \"W\""
   ]
  },
  {
   "cell_type": "code",
   "execution_count": null,
   "metadata": {},
   "outputs": [],
   "source": []
  }
 ],
 "metadata": {
  "kernelspec": {
   "display_name": "Python 3",
   "language": "python",
   "name": "python3"
  },
  "language_info": {
   "codemirror_mode": {
    "name": "ipython",
    "version": 3
   },
   "file_extension": ".py",
   "mimetype": "text/x-python",
   "name": "python",
   "nbconvert_exporter": "python",
   "pygments_lexer": "ipython3",
   "version": "3.7.3"
  }
 },
 "nbformat": 4,
 "nbformat_minor": 2
}
