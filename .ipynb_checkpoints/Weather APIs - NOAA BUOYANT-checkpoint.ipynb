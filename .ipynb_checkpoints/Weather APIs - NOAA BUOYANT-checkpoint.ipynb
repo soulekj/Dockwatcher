{
 "cells": [
  {
   "cell_type": "code",
   "execution_count": 74,
   "metadata": {},
   "outputs": [],
   "source": [
    "import pandas as pd\n",
    "import buoyant as by\n",
    "from haversine import haversine\n",
    "\n",
    "url = 'https://sdf.ndbc.noaa.gov/stations.shtml'\n",
    "\n",
    "LAT = 42.36\n",
    "LON = -71.06"
   ]
  },
  {
   "cell_type": "code",
   "execution_count": 26,
   "metadata": {},
   "outputs": [],
   "source": [
    "#import list of all weather buoys maintained by National Buoy Service\n",
    "buoy_list = pd.read_html(url)[4]"
   ]
  },
  {
   "cell_type": "code",
   "execution_count": 137,
   "metadata": {},
   "outputs": [],
   "source": [
    "#Create a function to find the closet buoy\n",
    "def find_closest_buoy(lat, lon):\n",
    "    smallest = 20036\n",
    "    for i in range(len(buoy_list)):\n",
    "        buoy_lon = buoy_list['Lon'][i]\n",
    "        buoy_lat = buoy_list['Lat'][i]\n",
    "\n",
    "        distance = haversine(LON, LAT, buoy_lon, buoy_lat)\n",
    "        if distance < smallest:\n",
    "            smallest = distance\n",
    "            closest = buoy_list['ID'][i]\n",
    "    return closest"
   ]
  },
  {
   "cell_type": "code",
   "execution_count": 138,
   "metadata": {},
   "outputs": [],
   "source": [
    "#Extract the latest weather data from the buoy\n",
    "buoy = by.Buoy(find_closest_buoy(LAT, LON))\n",
    "\n",
    "pressure_mb = buoy.air_pressure_at_sea_level\n",
    "temperature_air_c = buoy.air_temperature\n",
    "temperature_h2o_c = buoy.sea_water_temperature\n",
    "wave_height_m = buoy.waves['sea_surface_wave_significant_height']\n",
    "wind_dir = buoy.winds['wind_from_direction']\n",
    "wind_speed_ms = buoy.winds['wind_speed']\n",
    "wind_gust_ms = buoy.winds['wind_speed_of_gust']\n",
    "distance_km = haversine(LON, LAT, buoy.coords[1], buoy.coords[0])"
   ]
  }
 ],
 "metadata": {
  "kernelspec": {
   "display_name": "Python 3",
   "language": "python",
   "name": "python3"
  },
  "language_info": {
   "codemirror_mode": {
    "name": "ipython",
    "version": 3
   },
   "file_extension": ".py",
   "mimetype": "text/x-python",
   "name": "python",
   "nbconvert_exporter": "python",
   "pygments_lexer": "ipython3",
   "version": "3.7.3"
  }
 },
 "nbformat": 4,
 "nbformat_minor": 2
}
